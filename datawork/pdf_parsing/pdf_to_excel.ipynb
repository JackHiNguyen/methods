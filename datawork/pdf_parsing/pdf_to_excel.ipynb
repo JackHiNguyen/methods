{
 "cells": [
  {
   "cell_type": "code",
   "execution_count": 1,
   "id": "ec87f99e",
   "metadata": {},
   "outputs": [],
   "source": [
    "import tabula\n",
    "import pandas as pd"
   ]
  },
  {
   "cell_type": "code",
   "execution_count": null,
   "id": "37870601",
   "metadata": {},
   "outputs": [
    {
     "name": "stderr",
     "output_type": "stream",
     "text": [
      "Failed to import jpype dependencies. Fallback to subprocess.\n",
      "No module named 'jpype'\n"
     ]
    },
    {
     "name": "stdout",
     "output_type": "stream",
     "text": [
      "All tables saved to: combined_output.csv\n"
     ]
    }
   ],
   "source": [
    "pdf_path = \"bubble.pdf\"\n",
    "csv_path = \"combined_output.csv\"\n",
    "\n",
    "# Extract all tables\n",
    "tables = tabula.read_pdf(pdf_path, pages='all', multiple_tables=True)\n",
    "\n",
    "# Combine all tables into one DataFrame\n",
    "combined_df = pd.concat(tables, ignore_index=True)\n",
    "\n",
    "# Save to a single CSV\n",
    "combined_df.to_csv(csv_path, index=False)\n",
    "print(f\"All tables saved to: {csv_path}\")\n",
    "\n",
    "#then just convert csv to sheets and clean it up a bit!"
   ]
  }
 ],
 "metadata": {
  "kernelspec": {
   "display_name": "Python 3",
   "language": "python",
   "name": "python3"
  },
  "language_info": {
   "codemirror_mode": {
    "name": "ipython",
    "version": 3
   },
   "file_extension": ".py",
   "mimetype": "text/x-python",
   "name": "python",
   "nbconvert_exporter": "python",
   "pygments_lexer": "ipython3",
   "version": "3.13.0"
  }
 },
 "nbformat": 4,
 "nbformat_minor": 5
}
