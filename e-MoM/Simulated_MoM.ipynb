{
 "cells": [
  {
   "cell_type": "code",
   "execution_count": 53,
   "metadata": {},
   "outputs": [],
   "source": [
    "import numpy as np \n",
    "import matplotlib.pyplot as plt\n",
    "from scipy.optimize import minimize \n",
    "np.random.seed(42)\n",
    "\n",
    "#specifying parameters\n",
    "N = 10000\n",
    "w = 2\n",
    "a = 3.56\n",
    "#creating the data\n",
    "record = []\n",
    "for i in range(N):\n",
    "    epsilon_1 = np.random.gumbel(0, 1)\n",
    "    epsilon_0 = np.random.gumbel(0, 1)\n",
    "    work = epsilon_1 + w\n",
    "    rest = epsilon_0 + a\n",
    "    if work > rest:\n",
    "        record.append(1)\n",
    "    else:\n",
    "        record.append(0)\n",
    "\n",
    "m_data = np.mean(record)\n"
   ]
  },
  {
   "cell_type": "code",
   "execution_count": 54,
   "metadata": {},
   "outputs": [
    {
     "name": "stdout",
     "output_type": "stream",
     "text": [
      "       message: Optimization terminated successfully.\n",
      "       success: True\n",
      "        status: 0\n",
      "           fun: 8.999999999999684e-08\n",
      "             x: [ 3.531e+00]\n",
      "           nit: 19\n",
      "          nfev: 42\n",
      " final_simplex: (array([[ 3.531e+00],\n",
      "                       [ 3.531e+00]]), array([ 9.000e-08,  6.400e-07]))\n"
     ]
    }
   ],
   "source": [
    "def function(params):\n",
    "    record = []\n",
    "    a = params[0]\n",
    "    for i in range(N):\n",
    "        epsilon_1 = np.random.gumbel(0, 1)\n",
    "        epsilon_0 = np.random.gumbel(0, 1)\n",
    "        work = epsilon_1 + 2\n",
    "        rest = epsilon_0 + a\n",
    "        if work > rest:\n",
    "            record.append(1)\n",
    "        else:\n",
    "            record.append(0)\n",
    "    m_simulate = np.mean(record)\n",
    "    return (m_simulate - m_data)**2\n",
    "\n",
    "\n",
    "result = minimize(function, [5], method='Nelder-Mead')\n",
    "print(result)"
   ]
  }
 ],
 "metadata": {
  "kernelspec": {
   "display_name": "Python 3",
   "language": "python",
   "name": "python3"
  },
  "language_info": {
   "codemirror_mode": {
    "name": "ipython",
    "version": 3
   },
   "file_extension": ".py",
   "mimetype": "text/x-python",
   "name": "python",
   "nbconvert_exporter": "python",
   "pygments_lexer": "ipython3",
   "version": "3.13.0"
  }
 },
 "nbformat": 4,
 "nbformat_minor": 2
}
