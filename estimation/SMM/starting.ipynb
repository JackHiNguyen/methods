{
 "cells": [
  {
   "cell_type": "code",
   "execution_count": null,
   "id": "2f1602ed",
   "metadata": {},
   "outputs": [],
   "source": []
  },
  {
   "cell_type": "code",
   "execution_count": null,
   "id": "2a44e455",
   "metadata": {},
   "outputs": [],
   "source": [
    "# SIMULATION\n"
   ]
  },
  {
   "cell_type": "code",
   "execution_count": null,
   "id": "5ac08ec1",
   "metadata": {},
   "outputs": [],
   "source": [
    "# ESTIMATION\n",
    "\n"
   ]
  }
 ],
 "metadata": {
  "language_info": {
   "name": "python"
  }
 },
 "nbformat": 4,
 "nbformat_minor": 5
}
