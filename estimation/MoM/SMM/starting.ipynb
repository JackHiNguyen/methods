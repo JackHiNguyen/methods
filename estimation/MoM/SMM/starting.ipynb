{
 "cells": [
  {
   "cell_type": "code",
   "execution_count": 120,
   "id": "6aa624ef",
   "metadata": {},
   "outputs": [],
   "source": [
    "import numpy as np \n",
    "import matplotlib.pyplot as plt\n",
    "from scipy.optimize import minimize \n",
    "\n",
    "# np.set_printoptions(precision=4, suppress=True)"
   ]
  },
  {
   "cell_type": "code",
   "execution_count": 121,
   "id": "9b99c9e7",
   "metadata": {},
   "outputs": [],
   "source": [
    "# DATA SIMULATION\n",
    "true_delta = 4.75\n",
    "true_sigma = 0.7\n",
    "n_sample = 100000\n",
    "\n",
    "char = np.random.normal(0,1,n_sample)\n",
    "\n",
    "temp = char*true_delta + np.random.normal(0, true_sigma, n_sample)\n",
    "\n",
    "consumption = [max(0, i) for i in temp]\n",
    "\n",
    "sim_data = [(float(char[i]), float(consumption[i])) for i in range(len(char))]\n",
    "\n",
    "# print(sim_data)\n",
    "# print((np.array(consumption) == 0).sum()/len(consumption))\n",
    "# print(np.mean([consumption == 0]))"
   ]
  },
  {
   "cell_type": "code",
   "execution_count": 122,
   "id": "70b18b71",
   "metadata": {},
   "outputs": [
    {
     "name": "stdout",
     "output_type": "stream",
     "text": [
      "Optimization terminated successfully.\n",
      "         Current function value: 0.000000\n",
      "         Iterations: 36\n",
      "         Function evaluations: 72\n",
      "[4.8176 0.0382]\n"
     ]
    }
   ],
   "source": [
    "# ESTIMATION \n",
    "delta_guess = 1\n",
    "sigma_guess = 0.1\n",
    "\n",
    "def moment_1(sim_data): #mean of consumption \n",
    "    return np.mean([sim_data[i][1] for i in range(len(sim_data))])\n",
    "\n",
    "def moment_2(sim_data): #fraction of zero consumptions\n",
    "    temp = [1 if sim_data[i][1] == 0 else 0 for i in range(len(sim_data))]\n",
    "    return np.mean(temp)\n",
    "\n",
    "char_guess = np.random.normal(0,1,n_sample)\n",
    "def objective_function(params, sim_data):\n",
    "    delta, sigma = params[0], params[1]\n",
    "    temp = char_guess*delta + np.random.normal(0, sigma**2, n_sample)\n",
    "    consumption_guess = [max(0, i) for i in temp]\n",
    "    guess_data = [(float(char[i]), float(consumption_guess[i])) for i in range(len(char))]\n",
    "\n",
    "    moment_1_data = moment_1(sim_data)\n",
    "    moment_2_data = moment_2(sim_data)\n",
    "    moment_1_guess = moment_1(guess_data)\n",
    "    moment_2_guess = moment_2(guess_data)\n",
    "    # return loss values for the two moments\n",
    "    return (moment_1_data-moment_1_guess)**2 + (moment_2_data-moment_2_guess)**2 \n",
    "\n",
    "# print(objective_function([3, 1], sim_data))\n",
    "\n",
    "result = minimize(\n",
    "    objective_function, \n",
    "    x0 = [delta_guess, sigma_guess], \n",
    "    args=(sim_data,), \n",
    "    method= 'Nelder-Mead', \n",
    "    options= {'disp': True}\n",
    ")\n",
    "print(result.x)\n"
   ]
  }
 ],
 "metadata": {
  "kernelspec": {
   "display_name": "Python 3",
   "language": "python",
   "name": "python3"
  },
  "language_info": {
   "codemirror_mode": {
    "name": "ipython",
    "version": 3
   },
   "file_extension": ".py",
   "mimetype": "text/x-python",
   "name": "python",
   "nbconvert_exporter": "python",
   "pygments_lexer": "ipython3",
   "version": "3.13.0"
  }
 },
 "nbformat": 4,
 "nbformat_minor": 5
}
